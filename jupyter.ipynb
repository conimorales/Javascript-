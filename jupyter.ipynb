{
 "cells": [
  {
   "attachments": {},
   "cell_type": "markdown",
   "metadata": {},
   "source": [
    "### RETROALIMENTACIÓN 1\n",
    "- Crear un condicional CONDICIÓN QUE REVISA SI SE INGRESO INFORMACIÓN EN LAS CELDAS\n",
    "- Un bucle EN EL INPUT SE PUEDE IR INGRESANDO INFORMACIÓN \n",
    "- Que sea un simulador interactivo ESTA WEB ES INTERACTIVA Y CONTIENE EVENTOS QUE TE AVISAN SI INGRESASTE U ELIMINASTE INFORMACIÓN \n",
    "ADEMÁS DE QUE SI SE INGRESA INFORMACIÓN, SE VISUALIZA POR CONSOLA\n",
    "Todo esto teniendo en cuenta el futuro alcance y objetivo de tu proyecto"
   ]
  },
  {
   "cell_type": "markdown",
   "metadata": {},
   "source": []
  },
  {
   "attachments": {},
   "cell_type": "markdown",
   "metadata": {},
   "source": [
    "\n",
    "### RETROALIMENTACIÓN 2\n",
    "- Definir eventos y su función de respuesta (al menos uno) OK Función addRow\n",
    "\n",
    "- Modificar el DOM y lograr una correcta interacción con él OK \n",
    "\n",
    "- Almacenar datos en el Storage y recuperarlos (idealmente mostrarlos por el DOM) OK\n",
    "\n",
    "- Eliminar alerts y prompts OK"
   ]
  }
 ],
 "metadata": {
  "kernelspec": {
   "display_name": "Python 3",
   "language": "python",
   "name": "python3"
  },
  "language_info": {
   "name": "python",
   "version": "3.10.9 (tags/v3.10.9:1dd9be6, Dec  6 2022, 20:01:21) [MSC v.1934 64 bit (AMD64)]"
  },
  "orig_nbformat": 4,
  "vscode": {
   "interpreter": {
    "hash": "97ed0b760e739aa1f0d98476dd5300c1b5c97c38211511db4d8080d8da430568"
   }
  }
 },
 "nbformat": 4,
 "nbformat_minor": 2
}
